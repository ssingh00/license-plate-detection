{
 "cells": [
  {
   "cell_type": "code",
   "execution_count": 1,
   "id": "d75455aa",
   "metadata": {},
   "outputs": [],
   "source": [
    "import os\n",
    "os.chdir(\"../\")\n",
    "from ml.feature.train_test_split import iterate_dir\n",
    "from ml.feature.transform_to_csv import xml_to_csv\n",
    "from ml.feature.dataset_with_bb import create_dataset\n",
    "\n",
    "from google.cloud import storage\n",
    "\n"
   ]
  },
  {
   "cell_type": "code",
   "execution_count": 2,
   "id": "65d78dc4",
   "metadata": {},
   "outputs": [],
   "source": [
    "client = storage.Client()"
   ]
  },
  {
   "cell_type": "code",
   "execution_count": 3,
   "id": "7b529e60",
   "metadata": {},
   "outputs": [],
   "source": [
    "# Example to create train and test split\n",
    "# iterate_dir(source='gs://license-plate-workarea/data', \n",
    "#             dest='gs://license-plate-workarea/data', \n",
    "#             ratio=0.1, \n",
    "#             copy_xml=True, \n",
    "#             gcs=True)"
   ]
  },
  {
   "cell_type": "code",
   "execution_count": 4,
   "id": "bbfeafc3",
   "metadata": {},
   "outputs": [],
   "source": [
    "# df = xml_to_csv(path='gs://license-plate-workarea/data/train',\n",
    "# gcs=True)\n",
    "# df.filename.to_list()\n",
    "# python ml/feature/transform_to_csv.py --xml_dir=gs://license-plate-workarea/data/train --gcs=True\n",
    "# python ml/feature/transform_to_csv.py --xml_dir=gs://license-plate-workarea/data/test --gcs=True"
   ]
  },
  {
   "cell_type": "code",
   "execution_count": 5,
   "id": "a9a15792",
   "metadata": {},
   "outputs": [
    {
     "data": {
      "text/html": [
       "<div>\n",
       "<style scoped>\n",
       "    .dataframe tbody tr th:only-of-type {\n",
       "        vertical-align: middle;\n",
       "    }\n",
       "\n",
       "    .dataframe tbody tr th {\n",
       "        vertical-align: top;\n",
       "    }\n",
       "\n",
       "    .dataframe thead th {\n",
       "        text-align: right;\n",
       "    }\n",
       "</style>\n",
       "<table border=\"1\" class=\"dataframe\">\n",
       "  <thead>\n",
       "    <tr style=\"text-align: right;\">\n",
       "      <th></th>\n",
       "      <th>set</th>\n",
       "      <th>image_path</th>\n",
       "      <th>label</th>\n",
       "      <th>x1</th>\n",
       "      <th>y1</th>\n",
       "      <th>x2</th>\n",
       "      <th>y1</th>\n",
       "      <th>x2</th>\n",
       "      <th>y2</th>\n",
       "      <th>x1</th>\n",
       "      <th>y2</th>\n",
       "    </tr>\n",
       "  </thead>\n",
       "  <tbody>\n",
       "    <tr>\n",
       "      <th>0</th>\n",
       "      <td>TRAIN</td>\n",
       "      <td>gs://license-plate-workarea/data/train/images/...</td>\n",
       "      <td>licence</td>\n",
       "      <td>0.4520</td>\n",
       "      <td>0.466418</td>\n",
       "      <td>0.8380</td>\n",
       "      <td>0.466418</td>\n",
       "      <td>0.8380</td>\n",
       "      <td>0.645522</td>\n",
       "      <td>0.4520</td>\n",
       "      <td>0.645522</td>\n",
       "    </tr>\n",
       "    <tr>\n",
       "      <th>1</th>\n",
       "      <td>TRAIN</td>\n",
       "      <td>gs://license-plate-workarea/data/train/images/...</td>\n",
       "      <td>licence</td>\n",
       "      <td>0.3350</td>\n",
       "      <td>0.516129</td>\n",
       "      <td>0.6550</td>\n",
       "      <td>0.516129</td>\n",
       "      <td>0.6550</td>\n",
       "      <td>0.645161</td>\n",
       "      <td>0.3350</td>\n",
       "      <td>0.645161</td>\n",
       "    </tr>\n",
       "    <tr>\n",
       "      <th>2</th>\n",
       "      <td>TRAIN</td>\n",
       "      <td>gs://license-plate-workarea/data/train/images/...</td>\n",
       "      <td>licence</td>\n",
       "      <td>0.3500</td>\n",
       "      <td>0.022222</td>\n",
       "      <td>0.7575</td>\n",
       "      <td>0.022222</td>\n",
       "      <td>0.7575</td>\n",
       "      <td>0.657778</td>\n",
       "      <td>0.3500</td>\n",
       "      <td>0.657778</td>\n",
       "    </tr>\n",
       "    <tr>\n",
       "      <th>3</th>\n",
       "      <td>TRAIN</td>\n",
       "      <td>gs://license-plate-workarea/data/train/images/...</td>\n",
       "      <td>licence</td>\n",
       "      <td>0.4375</td>\n",
       "      <td>0.426966</td>\n",
       "      <td>0.5350</td>\n",
       "      <td>0.426966</td>\n",
       "      <td>0.5350</td>\n",
       "      <td>0.490637</td>\n",
       "      <td>0.4375</td>\n",
       "      <td>0.490637</td>\n",
       "    </tr>\n",
       "    <tr>\n",
       "      <th>4</th>\n",
       "      <td>TRAIN</td>\n",
       "      <td>gs://license-plate-workarea/data/train/images/...</td>\n",
       "      <td>licence</td>\n",
       "      <td>0.4175</td>\n",
       "      <td>0.673333</td>\n",
       "      <td>0.6000</td>\n",
       "      <td>0.673333</td>\n",
       "      <td>0.6000</td>\n",
       "      <td>0.733333</td>\n",
       "      <td>0.4175</td>\n",
       "      <td>0.733333</td>\n",
       "    </tr>\n",
       "  </tbody>\n",
       "</table>\n",
       "</div>"
      ],
      "text/plain": [
       "     set                                         image_path    label      x1  \\\n",
       "0  TRAIN  gs://license-plate-workarea/data/train/images/...  licence  0.4520   \n",
       "1  TRAIN  gs://license-plate-workarea/data/train/images/...  licence  0.3350   \n",
       "2  TRAIN  gs://license-plate-workarea/data/train/images/...  licence  0.3500   \n",
       "3  TRAIN  gs://license-plate-workarea/data/train/images/...  licence  0.4375   \n",
       "4  TRAIN  gs://license-plate-workarea/data/train/images/...  licence  0.4175   \n",
       "\n",
       "         y1      x2        y1      x2        y2      x1        y2  \n",
       "0  0.466418  0.8380  0.466418  0.8380  0.645522  0.4520  0.645522  \n",
       "1  0.516129  0.6550  0.516129  0.6550  0.645161  0.3350  0.645161  \n",
       "2  0.022222  0.7575  0.022222  0.7575  0.657778  0.3500  0.657778  \n",
       "3  0.426966  0.5350  0.426966  0.5350  0.490637  0.4375  0.490637  \n",
       "4  0.673333  0.6000  0.673333  0.6000  0.733333  0.4175  0.733333  "
      ]
     },
     "execution_count": 5,
     "metadata": {},
     "output_type": "execute_result"
    }
   ],
   "source": [
    "df = create_dataset(path='gs://license-plate-workarea/data',\n",
    "gcs=True)\n",
    "df.head()"
   ]
  },
  {
   "cell_type": "code",
   "execution_count": 6,
   "id": "0a701436",
   "metadata": {},
   "outputs": [],
   "source": [
    "df.to_csv(\"gs://license-plate-workarea/data/test.csv\")"
   ]
  },
  {
   "cell_type": "code",
   "execution_count": null,
   "id": "acca98b1",
   "metadata": {},
   "outputs": [],
   "source": []
  }
 ],
 "metadata": {
  "environment": {
   "name": "tf2-gpu.2-5.m71",
   "type": "gcloud",
   "uri": "gcr.io/deeplearning-platform-release/tf2-gpu.2-5:m71"
  },
  "kernelspec": {
   "display_name": "Python 3",
   "language": "python",
   "name": "python3"
  },
  "language_info": {
   "codemirror_mode": {
    "name": "ipython",
    "version": 3
   },
   "file_extension": ".py",
   "mimetype": "text/x-python",
   "name": "python",
   "nbconvert_exporter": "python",
   "pygments_lexer": "ipython3",
   "version": "3.7.10"
  }
 },
 "nbformat": 4,
 "nbformat_minor": 5
}
